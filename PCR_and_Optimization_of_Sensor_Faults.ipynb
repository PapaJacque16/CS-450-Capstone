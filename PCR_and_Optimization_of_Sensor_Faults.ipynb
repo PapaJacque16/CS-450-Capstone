{
  "nbformat": 4,
  "nbformat_minor": 0,
  "metadata": {
    "colab": {
      "provenance": [],
      "toc_visible": true,
      "authorship_tag": "ABX9TyNLD9xmxSyZ4i9j4aZ77nmb",
      "include_colab_link": true
    },
    "kernelspec": {
      "name": "python3",
      "display_name": "Python 3"
    },
    "language_info": {
      "name": "python"
    }
  },
  "cells": [
    {
      "cell_type": "markdown",
      "metadata": {
        "id": "view-in-github",
        "colab_type": "text"
      },
      "source": [
        "<a href=\"https://colab.research.google.com/github/PapaJacque16/CS-450-Capstone/blob/main/PCR_and_Optimization_of_Sensor_Faults.ipynb\" target=\"_parent\"><img src=\"https://colab.research.google.com/assets/colab-badge.svg\" alt=\"Open In Colab\"/></a>"
      ]
    },
    {
      "cell_type": "code",
      "execution_count": 6,
      "metadata": {
        "id": "1NKCxkLX909K"
      },
      "outputs": [],
      "source": [
        "#Step 1 - Initial Set Up - Import all necessary Libraries and mount to gdrive to import dataset, then perform train test split.\n",
        "import numpy as np\n",
        "import pandas as pd\n",
        "import matplotlib.pyplot as plt\n",
        "\n",
        "from sklearn.preprocessing import scale \n",
        "from sklearn.linear_model import LinearRegression, RidgeCV, LassoCV\n",
        "from sklearn.model_selection import KFold, cross_val_score, train_test_split\n",
        "from sklearn.metrics import mean_squared_error\n",
        "from sklearn.decomposition import PCA"
      ]
    },
    {
      "cell_type": "code",
      "source": [
        "from google.colab import drive\n",
        "drive.mount('/content/gdrive')"
      ],
      "metadata": {
        "colab": {
          "base_uri": "https://localhost:8080/"
        },
        "id": "44DObMiIEl4K",
        "outputId": "9d1dbc9e-56d7-4e6c-bb03-a1b9da7da811"
      },
      "execution_count": 9,
      "outputs": [
        {
          "output_type": "stream",
          "name": "stdout",
          "text": [
            "Mounted at /content/gdrive\n"
          ]
        }
      ]
    },
    {
      "cell_type": "code",
      "source": [
        "df = pd.read_csv('/content/gdrive/MyDrive/CS450/Sensor_Time_Series.csv')\n",
        "df"
      ],
      "metadata": {
        "id": "ku2g4EK0VriZ",
        "colab": {
          "base_uri": "https://localhost:8080/",
          "height": 419
        },
        "outputId": "01234dbb-3615-4e5c-d16f-6d667415c7c5"
      },
      "execution_count": 10,
      "outputs": [
        {
          "output_type": "execute_result",
          "data": {
            "text/plain": [
              "         Time_Series  Sensor_1_Range  Sensor_2_Range  Temp_High  Temp_Low  \\\n",
              "0       3/21/22 0:00       12.162611       13.816756     190.17    139.47   \n",
              "1       3/21/22 0:01       12.252904       14.100229     187.41    139.48   \n",
              "2       3/21/22 0:02       12.171030       13.981956     190.71    139.66   \n",
              "3       3/21/22 0:03       12.121374       13.939545     190.89    139.84   \n",
              "4       3/21/22 0:04       12.087014       14.058108     191.02    139.86   \n",
              "...              ...             ...             ...        ...       ...   \n",
              "10075  3/27/22 23:55       12.686857       14.204982     191.49    140.67   \n",
              "10076  3/27/22 23:56       12.651416       14.201341     191.48    140.78   \n",
              "10077  3/27/22 23:57       12.638795       13.897180     191.41    140.80   \n",
              "10078  3/27/22 23:58       12.575106       13.997841     191.43    140.74   \n",
              "10079  3/27/22 23:59       12.543354       14.069864     191.44    140.57   \n",
              "\n",
              "       Performance   \n",
              "0         49.045854  \n",
              "1         46.082675  \n",
              "2         49.239073  \n",
              "3         49.231828  \n",
              "4         49.188905  \n",
              "...             ...  \n",
              "10075     49.301875  \n",
              "10076     49.150075  \n",
              "10077     49.351615  \n",
              "10078     49.267265  \n",
              "10079     49.343490  \n",
              "\n",
              "[10080 rows x 6 columns]"
            ],
            "text/html": [
              "\n",
              "  <div id=\"df-b1618a26-fb72-4e91-962b-8faedae3f4f0\">\n",
              "    <div class=\"colab-df-container\">\n",
              "      <div>\n",
              "<style scoped>\n",
              "    .dataframe tbody tr th:only-of-type {\n",
              "        vertical-align: middle;\n",
              "    }\n",
              "\n",
              "    .dataframe tbody tr th {\n",
              "        vertical-align: top;\n",
              "    }\n",
              "\n",
              "    .dataframe thead th {\n",
              "        text-align: right;\n",
              "    }\n",
              "</style>\n",
              "<table border=\"1\" class=\"dataframe\">\n",
              "  <thead>\n",
              "    <tr style=\"text-align: right;\">\n",
              "      <th></th>\n",
              "      <th>Time_Series</th>\n",
              "      <th>Sensor_1_Range</th>\n",
              "      <th>Sensor_2_Range</th>\n",
              "      <th>Temp_High</th>\n",
              "      <th>Temp_Low</th>\n",
              "      <th>Performance</th>\n",
              "    </tr>\n",
              "  </thead>\n",
              "  <tbody>\n",
              "    <tr>\n",
              "      <th>0</th>\n",
              "      <td>3/21/22 0:00</td>\n",
              "      <td>12.162611</td>\n",
              "      <td>13.816756</td>\n",
              "      <td>190.17</td>\n",
              "      <td>139.47</td>\n",
              "      <td>49.045854</td>\n",
              "    </tr>\n",
              "    <tr>\n",
              "      <th>1</th>\n",
              "      <td>3/21/22 0:01</td>\n",
              "      <td>12.252904</td>\n",
              "      <td>14.100229</td>\n",
              "      <td>187.41</td>\n",
              "      <td>139.48</td>\n",
              "      <td>46.082675</td>\n",
              "    </tr>\n",
              "    <tr>\n",
              "      <th>2</th>\n",
              "      <td>3/21/22 0:02</td>\n",
              "      <td>12.171030</td>\n",
              "      <td>13.981956</td>\n",
              "      <td>190.71</td>\n",
              "      <td>139.66</td>\n",
              "      <td>49.239073</td>\n",
              "    </tr>\n",
              "    <tr>\n",
              "      <th>3</th>\n",
              "      <td>3/21/22 0:03</td>\n",
              "      <td>12.121374</td>\n",
              "      <td>13.939545</td>\n",
              "      <td>190.89</td>\n",
              "      <td>139.84</td>\n",
              "      <td>49.231828</td>\n",
              "    </tr>\n",
              "    <tr>\n",
              "      <th>4</th>\n",
              "      <td>3/21/22 0:04</td>\n",
              "      <td>12.087014</td>\n",
              "      <td>14.058108</td>\n",
              "      <td>191.02</td>\n",
              "      <td>139.86</td>\n",
              "      <td>49.188905</td>\n",
              "    </tr>\n",
              "    <tr>\n",
              "      <th>...</th>\n",
              "      <td>...</td>\n",
              "      <td>...</td>\n",
              "      <td>...</td>\n",
              "      <td>...</td>\n",
              "      <td>...</td>\n",
              "      <td>...</td>\n",
              "    </tr>\n",
              "    <tr>\n",
              "      <th>10075</th>\n",
              "      <td>3/27/22 23:55</td>\n",
              "      <td>12.686857</td>\n",
              "      <td>14.204982</td>\n",
              "      <td>191.49</td>\n",
              "      <td>140.67</td>\n",
              "      <td>49.301875</td>\n",
              "    </tr>\n",
              "    <tr>\n",
              "      <th>10076</th>\n",
              "      <td>3/27/22 23:56</td>\n",
              "      <td>12.651416</td>\n",
              "      <td>14.201341</td>\n",
              "      <td>191.48</td>\n",
              "      <td>140.78</td>\n",
              "      <td>49.150075</td>\n",
              "    </tr>\n",
              "    <tr>\n",
              "      <th>10077</th>\n",
              "      <td>3/27/22 23:57</td>\n",
              "      <td>12.638795</td>\n",
              "      <td>13.897180</td>\n",
              "      <td>191.41</td>\n",
              "      <td>140.80</td>\n",
              "      <td>49.351615</td>\n",
              "    </tr>\n",
              "    <tr>\n",
              "      <th>10078</th>\n",
              "      <td>3/27/22 23:58</td>\n",
              "      <td>12.575106</td>\n",
              "      <td>13.997841</td>\n",
              "      <td>191.43</td>\n",
              "      <td>140.74</td>\n",
              "      <td>49.267265</td>\n",
              "    </tr>\n",
              "    <tr>\n",
              "      <th>10079</th>\n",
              "      <td>3/27/22 23:59</td>\n",
              "      <td>12.543354</td>\n",
              "      <td>14.069864</td>\n",
              "      <td>191.44</td>\n",
              "      <td>140.57</td>\n",
              "      <td>49.343490</td>\n",
              "    </tr>\n",
              "  </tbody>\n",
              "</table>\n",
              "<p>10080 rows × 6 columns</p>\n",
              "</div>\n",
              "      <button class=\"colab-df-convert\" onclick=\"convertToInteractive('df-b1618a26-fb72-4e91-962b-8faedae3f4f0')\"\n",
              "              title=\"Convert this dataframe to an interactive table.\"\n",
              "              style=\"display:none;\">\n",
              "        \n",
              "  <svg xmlns=\"http://www.w3.org/2000/svg\" height=\"24px\"viewBox=\"0 0 24 24\"\n",
              "       width=\"24px\">\n",
              "    <path d=\"M0 0h24v24H0V0z\" fill=\"none\"/>\n",
              "    <path d=\"M18.56 5.44l.94 2.06.94-2.06 2.06-.94-2.06-.94-.94-2.06-.94 2.06-2.06.94zm-11 1L8.5 8.5l.94-2.06 2.06-.94-2.06-.94L8.5 2.5l-.94 2.06-2.06.94zm10 10l.94 2.06.94-2.06 2.06-.94-2.06-.94-.94-2.06-.94 2.06-2.06.94z\"/><path d=\"M17.41 7.96l-1.37-1.37c-.4-.4-.92-.59-1.43-.59-.52 0-1.04.2-1.43.59L10.3 9.45l-7.72 7.72c-.78.78-.78 2.05 0 2.83L4 21.41c.39.39.9.59 1.41.59.51 0 1.02-.2 1.41-.59l7.78-7.78 2.81-2.81c.8-.78.8-2.07 0-2.86zM5.41 20L4 18.59l7.72-7.72 1.47 1.35L5.41 20z\"/>\n",
              "  </svg>\n",
              "      </button>\n",
              "      \n",
              "  <style>\n",
              "    .colab-df-container {\n",
              "      display:flex;\n",
              "      flex-wrap:wrap;\n",
              "      gap: 12px;\n",
              "    }\n",
              "\n",
              "    .colab-df-convert {\n",
              "      background-color: #E8F0FE;\n",
              "      border: none;\n",
              "      border-radius: 50%;\n",
              "      cursor: pointer;\n",
              "      display: none;\n",
              "      fill: #1967D2;\n",
              "      height: 32px;\n",
              "      padding: 0 0 0 0;\n",
              "      width: 32px;\n",
              "    }\n",
              "\n",
              "    .colab-df-convert:hover {\n",
              "      background-color: #E2EBFA;\n",
              "      box-shadow: 0px 1px 2px rgba(60, 64, 67, 0.3), 0px 1px 3px 1px rgba(60, 64, 67, 0.15);\n",
              "      fill: #174EA6;\n",
              "    }\n",
              "\n",
              "    [theme=dark] .colab-df-convert {\n",
              "      background-color: #3B4455;\n",
              "      fill: #D2E3FC;\n",
              "    }\n",
              "\n",
              "    [theme=dark] .colab-df-convert:hover {\n",
              "      background-color: #434B5C;\n",
              "      box-shadow: 0px 1px 3px 1px rgba(0, 0, 0, 0.15);\n",
              "      filter: drop-shadow(0px 1px 2px rgba(0, 0, 0, 0.3));\n",
              "      fill: #FFFFFF;\n",
              "    }\n",
              "  </style>\n",
              "\n",
              "      <script>\n",
              "        const buttonEl =\n",
              "          document.querySelector('#df-b1618a26-fb72-4e91-962b-8faedae3f4f0 button.colab-df-convert');\n",
              "        buttonEl.style.display =\n",
              "          google.colab.kernel.accessAllowed ? 'block' : 'none';\n",
              "\n",
              "        async function convertToInteractive(key) {\n",
              "          const element = document.querySelector('#df-b1618a26-fb72-4e91-962b-8faedae3f4f0');\n",
              "          const dataTable =\n",
              "            await google.colab.kernel.invokeFunction('convertToInteractive',\n",
              "                                                     [key], {});\n",
              "          if (!dataTable) return;\n",
              "\n",
              "          const docLinkHtml = 'Like what you see? Visit the ' +\n",
              "            '<a target=\"_blank\" href=https://colab.research.google.com/notebooks/data_table.ipynb>data table notebook</a>'\n",
              "            + ' to learn more about interactive tables.';\n",
              "          element.innerHTML = '';\n",
              "          dataTable['output_type'] = 'display_data';\n",
              "          await google.colab.output.renderOutput(dataTable, element);\n",
              "          const docLink = document.createElement('div');\n",
              "          docLink.innerHTML = docLinkHtml;\n",
              "          element.appendChild(docLink);\n",
              "        }\n",
              "      </script>\n",
              "    </div>\n",
              "  </div>\n",
              "  "
            ]
          },
          "metadata": {},
          "execution_count": 10
        }
      ]
    },
    {
      "cell_type": "code",
      "source": [
        "X =  df[['Sensor_1_Range',\t'Sensor_2_Range',\t'Temp_Low']]\n",
        "y = df['Temp_High']"
      ],
      "metadata": {
        "id": "L0VaxiCmWYje"
      },
      "execution_count": null,
      "outputs": []
    },
    {
      "cell_type": "code",
      "source": [
        "X_train, X_test, y_train, y_test = train_test_split(X, y, test_size=.2, random_state=32)"
      ],
      "metadata": {
        "id": "lrlxGqjGXDfU"
      },
      "execution_count": null,
      "outputs": []
    },
    {
      "cell_type": "code",
      "source": [
        "#Step 2 - Before we can run Principle Component Regression we have to standardize the features to be the same scale then we can generate the components.\n",
        "#Run standardization on X variables\n",
        "X_train_scaled = scale(X_train)\n",
        "X_test_scaled = scale(X_test)"
      ],
      "metadata": {
        "id": "9rAP6xWoXqpM"
      },
      "execution_count": null,
      "outputs": []
    },
    {
      "cell_type": "code",
      "source": [
        "#Step 3 - Run baseline regression models - Benchmarks for comparison, using 3 baseline models- Linear Regression, Lasso Regression, and Ridge Regression.\n",
        "#Define cross validation folds\n",
        "cv = KFold(n_splits=10, shuffle=True, random_state=42)"
      ],
      "metadata": {
        "id": "RaCVPzExYVpY"
      },
      "execution_count": null,
      "outputs": []
    },
    {
      "cell_type": "code",
      "source": [
        "#Linear Regression\n",
        "lin_reg = LinearRegression().fit(X_train_scaled, y_train)\n",
        "lr_score_train = -1 * cross_val_score(lin_reg, X_train_scaled, y_train, cv=cv, scoring='neg_root_mean_squared_error').mean()\n",
        "lr_score_test = mean_squared_error(y_test, lin_reg.predict(X_test_scaled), squared=False)"
      ],
      "metadata": {
        "id": "MQeas_YRZqAv"
      },
      "execution_count": null,
      "outputs": []
    },
    {
      "cell_type": "code",
      "source": [
        "#Lasso Regression\n",
        "lasso_reg = LassoCV().fit(X_train_scaled, y_train)\n",
        "lasso_score_train = -1 * cross_val_score(lasso_reg, X_train_scaled, y_train, cv=cv, scoring='neg_root_mean_squared_error').mean()\n",
        "lasso_score_test = mean_squared_error(y_test, lasso_reg.predict(X_test_scaled), squared=False)"
      ],
      "metadata": {
        "id": "Sy5enVttZtu2",
        "colab": {
          "base_uri": "https://localhost:8080/"
        },
        "outputId": "4b205c51-d325-455c-d2b0-a55187c1331b"
      },
      "execution_count": null,
      "outputs": [
        {
          "output_type": "stream",
          "name": "stdout",
          "text": [
            "Reconnecting Anvil Uplink...\n",
            "Connecting to wss://anvil.works/uplink\n",
            "Anvil websocket open\n",
            "Fatal error from Anvil server: Incorrect uplink key\n",
            "Anvil websocket closed (code 1000, reason=b'')\n"
          ]
        }
      ]
    },
    {
      "cell_type": "code",
      "source": [
        "#Ridge Regression\n",
        "ridge_reg = RidgeCV().fit(X_train_scaled, y_train)\n",
        "ridge_score_train = -1 * cross_val_score(ridge_reg, X_train_scaled, y_train, cv=cv, scoring='neg_root_mean_squared_error').mean()\n",
        "ridge_score_test = mean_squared_error(y_test, ridge_reg.predict(X_test_scaled), squared=False)"
      ],
      "metadata": {
        "id": "-fxWHpVLZ1oM"
      },
      "execution_count": null,
      "outputs": []
    },
    {
      "cell_type": "code",
      "source": [
        "#Step 4 - Generate Principle Components- generated from sklearn.decomposition\n",
        "pca = PCA() # Default n_components = min(n_samples, n_features)\n",
        "X_train_pc = pca.fit_transform(X_train_scaled)\n",
        "\n",
        "# View first 5 rows of all principal components\n",
        "pd.DataFrame(pca.components_.T).loc[:4,:]"
      ],
      "metadata": {
        "id": "eBp5P4IOaCEh",
        "colab": {
          "base_uri": "https://localhost:8080/",
          "height": 142
        },
        "outputId": "3d5b5fff-03f6-42ea-cd0e-035009ec0cb1"
      },
      "execution_count": null,
      "outputs": [
        {
          "output_type": "execute_result",
          "data": {
            "text/plain": [
              "          0         1         2\n",
              "0  0.703490 -0.042489  0.709434\n",
              "1  0.691833 -0.187566 -0.697270\n",
              "2  0.162692  0.981333 -0.102555"
            ],
            "text/html": [
              "\n",
              "  <div id=\"df-afe7945f-da8e-45d1-b7a2-0c8c9b3e9514\">\n",
              "    <div class=\"colab-df-container\">\n",
              "      <div>\n",
              "<style scoped>\n",
              "    .dataframe tbody tr th:only-of-type {\n",
              "        vertical-align: middle;\n",
              "    }\n",
              "\n",
              "    .dataframe tbody tr th {\n",
              "        vertical-align: top;\n",
              "    }\n",
              "\n",
              "    .dataframe thead th {\n",
              "        text-align: right;\n",
              "    }\n",
              "</style>\n",
              "<table border=\"1\" class=\"dataframe\">\n",
              "  <thead>\n",
              "    <tr style=\"text-align: right;\">\n",
              "      <th></th>\n",
              "      <th>0</th>\n",
              "      <th>1</th>\n",
              "      <th>2</th>\n",
              "    </tr>\n",
              "  </thead>\n",
              "  <tbody>\n",
              "    <tr>\n",
              "      <th>0</th>\n",
              "      <td>0.703490</td>\n",
              "      <td>-0.042489</td>\n",
              "      <td>0.709434</td>\n",
              "    </tr>\n",
              "    <tr>\n",
              "      <th>1</th>\n",
              "      <td>0.691833</td>\n",
              "      <td>-0.187566</td>\n",
              "      <td>-0.697270</td>\n",
              "    </tr>\n",
              "    <tr>\n",
              "      <th>2</th>\n",
              "      <td>0.162692</td>\n",
              "      <td>0.981333</td>\n",
              "      <td>-0.102555</td>\n",
              "    </tr>\n",
              "  </tbody>\n",
              "</table>\n",
              "</div>\n",
              "      <button class=\"colab-df-convert\" onclick=\"convertToInteractive('df-afe7945f-da8e-45d1-b7a2-0c8c9b3e9514')\"\n",
              "              title=\"Convert this dataframe to an interactive table.\"\n",
              "              style=\"display:none;\">\n",
              "        \n",
              "  <svg xmlns=\"http://www.w3.org/2000/svg\" height=\"24px\"viewBox=\"0 0 24 24\"\n",
              "       width=\"24px\">\n",
              "    <path d=\"M0 0h24v24H0V0z\" fill=\"none\"/>\n",
              "    <path d=\"M18.56 5.44l.94 2.06.94-2.06 2.06-.94-2.06-.94-.94-2.06-.94 2.06-2.06.94zm-11 1L8.5 8.5l.94-2.06 2.06-.94-2.06-.94L8.5 2.5l-.94 2.06-2.06.94zm10 10l.94 2.06.94-2.06 2.06-.94-2.06-.94-.94-2.06-.94 2.06-2.06.94z\"/><path d=\"M17.41 7.96l-1.37-1.37c-.4-.4-.92-.59-1.43-.59-.52 0-1.04.2-1.43.59L10.3 9.45l-7.72 7.72c-.78.78-.78 2.05 0 2.83L4 21.41c.39.39.9.59 1.41.59.51 0 1.02-.2 1.41-.59l7.78-7.78 2.81-2.81c.8-.78.8-2.07 0-2.86zM5.41 20L4 18.59l7.72-7.72 1.47 1.35L5.41 20z\"/>\n",
              "  </svg>\n",
              "      </button>\n",
              "      \n",
              "  <style>\n",
              "    .colab-df-container {\n",
              "      display:flex;\n",
              "      flex-wrap:wrap;\n",
              "      gap: 12px;\n",
              "    }\n",
              "\n",
              "    .colab-df-convert {\n",
              "      background-color: #E8F0FE;\n",
              "      border: none;\n",
              "      border-radius: 50%;\n",
              "      cursor: pointer;\n",
              "      display: none;\n",
              "      fill: #1967D2;\n",
              "      height: 32px;\n",
              "      padding: 0 0 0 0;\n",
              "      width: 32px;\n",
              "    }\n",
              "\n",
              "    .colab-df-convert:hover {\n",
              "      background-color: #E2EBFA;\n",
              "      box-shadow: 0px 1px 2px rgba(60, 64, 67, 0.3), 0px 1px 3px 1px rgba(60, 64, 67, 0.15);\n",
              "      fill: #174EA6;\n",
              "    }\n",
              "\n",
              "    [theme=dark] .colab-df-convert {\n",
              "      background-color: #3B4455;\n",
              "      fill: #D2E3FC;\n",
              "    }\n",
              "\n",
              "    [theme=dark] .colab-df-convert:hover {\n",
              "      background-color: #434B5C;\n",
              "      box-shadow: 0px 1px 3px 1px rgba(0, 0, 0, 0.15);\n",
              "      filter: drop-shadow(0px 1px 2px rgba(0, 0, 0, 0.3));\n",
              "      fill: #FFFFFF;\n",
              "    }\n",
              "  </style>\n",
              "\n",
              "      <script>\n",
              "        const buttonEl =\n",
              "          document.querySelector('#df-afe7945f-da8e-45d1-b7a2-0c8c9b3e9514 button.colab-df-convert');\n",
              "        buttonEl.style.display =\n",
              "          google.colab.kernel.accessAllowed ? 'block' : 'none';\n",
              "\n",
              "        async function convertToInteractive(key) {\n",
              "          const element = document.querySelector('#df-afe7945f-da8e-45d1-b7a2-0c8c9b3e9514');\n",
              "          const dataTable =\n",
              "            await google.colab.kernel.invokeFunction('convertToInteractive',\n",
              "                                                     [key], {});\n",
              "          if (!dataTable) return;\n",
              "\n",
              "          const docLinkHtml = 'Like what you see? Visit the ' +\n",
              "            '<a target=\"_blank\" href=https://colab.research.google.com/notebooks/data_table.ipynb>data table notebook</a>'\n",
              "            + ' to learn more about interactive tables.';\n",
              "          element.innerHTML = '';\n",
              "          dataTable['output_type'] = 'display_data';\n",
              "          await google.colab.output.renderOutput(dataTable, element);\n",
              "          const docLink = document.createElement('div');\n",
              "          docLink.innerHTML = docLinkHtml;\n",
              "          element.appendChild(docLink);\n",
              "        }\n",
              "      </script>\n",
              "    </div>\n",
              "  </div>\n",
              "  "
            ]
          },
          "metadata": {},
          "execution_count": 13
        }
      ]
    },
    {
      "cell_type": "code",
      "source": [
        "# View explained variance ratio for each principle component\n",
        "pca.explained_variance_ratio_"
      ],
      "metadata": {
        "id": "pJfGSsjXaoLr",
        "colab": {
          "base_uri": "https://localhost:8080/"
        },
        "outputId": "76ab2960-8327-4461-931e-61fbc3ad7631"
      },
      "execution_count": null,
      "outputs": [
        {
          "output_type": "execute_result",
          "data": {
            "text/plain": [
              "array([0.37963436, 0.33255794, 0.2878077 ])"
            ]
          },
          "metadata": {},
          "execution_count": 14
        }
      ]
    },
    {
      "cell_type": "markdown",
      "source": [
        "From the above, we can see that the first principal component (PC1) captures overall 38% of the variance followed by PC2 with a 3.46% variance."
      ],
      "metadata": {
        "id": "d0z28AK-2AKg"
      }
    },
    {
      "cell_type": "code",
      "source": [
        "#Step 5 - Determine the number of Principle Components\n",
        "#Initialize linear regression instance\n",
        "lin_reg = LinearRegression()"
      ],
      "metadata": {
        "id": "rAqmo0aWa3pg"
      },
      "execution_count": null,
      "outputs": []
    },
    {
      "cell_type": "code",
      "source": [
        "#Create empty list to store RMSE for each iteration\n",
        "rmse_list = []"
      ],
      "metadata": {
        "id": "CRdYLBA4bGfm"
      },
      "execution_count": null,
      "outputs": []
    },
    {
      "cell_type": "code",
      "source": [
        "# Loop through different count of principal components for linear regression\n",
        "for i in range(1, X_train_pc.shape[1]+1):\n",
        "    rmse_score = -1 * cross_val_score(lin_reg, \n",
        "                                      X_train_pc[:,:i], # Use first k principal components\n",
        "                                      y_train, \n",
        "                                      cv=cv, \n",
        "                                      scoring='neg_root_mean_squared_error').mean()\n",
        "    rmse_list.append(rmse_score)"
      ],
      "metadata": {
        "id": "WnzGbgdIbJqN"
      },
      "execution_count": null,
      "outputs": []
    },
    {
      "cell_type": "code",
      "source": [
        "# Visual analysis - plot RMSE vs count of principal components used\n",
        "plt.plot(rmse_list, '-o')\n",
        "plt.xlabel('Number of Principal Components in Regression')\n",
        "plt.ylabel('RMSE')\n",
        "plt.title('Quality')\n",
        "plt.xlim(xmin=-1);\n",
        "plt.xticks(np.arange(X_train_pc.shape[1]), np.arange(1, X_train_pc.shape[1]+1))\n",
        "plt.axhline(y=lr_score_train, color='g', linestyle='-');"
      ],
      "metadata": {
        "id": "QeoNg-lsbN9e",
        "colab": {
          "base_uri": "https://localhost:8080/",
          "height": 486
        },
        "outputId": "972200b8-149d-4fa6-bc65-75046639809b"
      },
      "execution_count": null,
      "outputs": [
        {
          "output_type": "display_data",
          "data": {
            "text/plain": [
              "<Figure size 640x480 with 1 Axes>"
            ],
            "image/png": "[encoded data removed]"
          },
          "metadata": {}
        }
      ]
    },
    {
      "cell_type": "markdown",
      "source": [
        "##Results \n",
        "The PCR is telling us that based on the quality related process monitoring for the system being used that the smaller number of principal components represents most of the variability in the data and (presumptively) the relationship with the target variable. In this case the quality from PC1 to PC3 varies less than 0.002."
      ],
      "metadata": {
        "id": "MYmzClinz1rs"
      }
    },
    {
      "cell_type": "markdown",
      "source": [
        "# Fault detection\n",
        "\n",
        "Now we will consider a problem of identifying faults that have occurred in a system based on sensor measurements of system performance.\n",
        "\n",
        "# Topic references\n",
        "- [Samar, Sikandar, Dimitry Gorinevsky, and Stephen Boyd. \"Likelihood Bounds for Constrained Estimation with Uncertainty.\" Decision and Control, 2005 and 2005 European Control Conference. CDC-ECC'05. 44th IEEE Conference on. IEEE, 2005.](http://web.stanford.edu/~boyd/papers/pdf/map_bounds.pdf)\n",
        "\n",
        "# Problem statement\n",
        "\n",
        "Each of $n$ possible faults occurs independently with probability $p$.\n",
        "The vector $x \\in \\lbrace 0,1 \\rbrace^{n}$ encodes the fault occurrences, with $x_i = 1$ indicating that fault $i$ has occurred.\n",
        "System performance is measured by $m$ sensors.\n",
        "The sensor output is\n",
        "\\begin{equation}\n",
        "y = Ax + v = \\sum_{i=1}^n a_i x_i + v,\n",
        "\\end{equation}\n",
        "where $A \\in \\mathbf{R}^{m \\times n}$ is the sensing matrix with column $a_i$ being the **fault signature** of fault $i$,\n",
        "and $v \\in \\mathbf{R}^m$ is a noise vector where $v_j$ is Gaussian with mean 0 and variance $\\sigma^2$.\n",
        "\n",
        "The objective is to guess $x$ (which faults have occurred) given $y$ (sensor measurements).\n",
        "\n",
        "We are interested in the setting where $n > m$, that is, when we have more possible faults than measurements.\n",
        "In this setting, we can expect a good recovery when the vector $x$ is sparse.\n",
        "This is the subject of compressed sensing.\n",
        "\n",
        "# Solution approach\n",
        "To identify the faults, one reasonable approach is to choose $x \\in \\lbrace 0,1 \\rbrace^{n}$ to minimize the negative log-likelihood function\n",
        "\n",
        "\\begin{equation}\n",
        "\\ell(x) = \\frac{1}{2 \\sigma^2} \\|Ax-y\\|_2^2 +  \\log(1/p-1)\\mathbf{1}^T x + c.\n",
        "\\end{equation}\n",
        "\n",
        "However, this problem is nonconvex and NP-hard, due to the constraint that $x$ must be Boolean.\n",
        "\n",
        "To make this problem tractable, we can relax the Boolean constraints and instead constrain $x_i \\in [0,1]$.\n",
        "\n",
        "The optimization problem\n",
        "\n",
        "\\begin{array}{ll}\n",
        "\\mbox{minimize} &  \\|Ax-y\\|_2^2 + 2 \\sigma^2 \\log(1/p-1)\\mathbf{1}^T x\\\\\n",
        "\\mbox{subject to} &  0 \\leq x_i \\leq 1, \\quad i=1, \\ldots n\n",
        "\\end{array}\n",
        "\n",
        "is convex.\n",
        "We'll refer to the solution of the convex problem as the **relaxed ML** estimate.\n",
        "\n",
        "By taking the relaxed ML estimate of $x$ and rounding the entries to the nearest of 0 or 1, we recover a Boolean estimate of the fault occurrences.\n",
        "\n",
        "# Example\n",
        "\n",
        "We'll generate an example with $n = 10080$ possible faults, $m = 1015$ measurements, and fault probability $p = 0.01$.\n",
        "We'll choose $\\sigma^2$ so that the signal-to-noise ratio is 4.\n",
        "That is,\n",
        "\\begin{equation}\n",
        "\\sqrt{\\frac{\\mathbf{E}\\|Ax \\|^2_2}{\\mathbf{E} \\|v\\|_2^2}} = 4.\n",
        "\\end{equation}"
      ],
      "metadata": {
        "id": "NPb_u97NwQb5"
      }
    },
    {
      "cell_type": "code",
      "source": [
        "np.random.seed(1)\n",
        "\n",
        "n = 10080\n",
        "m = 1015\n",
        "p = 0.002\n",
        "snr = 4\n",
        "\n",
        "sigma = np.sqrt(p*n/(snr**2))\n",
        "A = np.random.randn(m,n)\n",
        "\n",
        "x_true = (np.random.rand(n) <= p).astype(int)\n",
        "v = sigma*np.random.randn(m)\n",
        "\n",
        "y = A.dot(x_true) + v"
      ],
      "metadata": {
        "id": "uTh3F66GMJxP"
      },
      "execution_count": null,
      "outputs": []
    },
    {
      "cell_type": "code",
      "source": [
        "plt.plot(range(n),x_true);"
      ],
      "metadata": {
        "colab": {
          "base_uri": "https://localhost:8080/",
          "height": 435
        },
        "id": "QnYrl2pRvMaG",
        "outputId": "56651a6d-b0e4-40fa-9d77-7114a5267e01"
      },
      "execution_count": null,
      "outputs": [
        {
          "output_type": "display_data",
          "data": {
            "text/plain": [
              "<Figure size 640x480 with 1 Axes>"
            ],
            "image/png": "[encoded data removed]"
          },
          "metadata": {}
        }
      ]
    },
    {
      "cell_type": "code",
      "source": [
        "plt.plot(range(m), A.dot(x_true),range(m),v)\n",
        "plt.legend(('Ax','v'));"
      ],
      "metadata": {
        "colab": {
          "base_uri": "https://localhost:8080/",
          "height": 440
        },
        "id": "HacwkYTqvdmi",
        "outputId": "f3989f5e-4826-411f-eb42-b2cf470759b8"
      },
      "execution_count": null,
      "outputs": [
        {
          "output_type": "display_data",
          "data": {
            "text/plain": [
              "<Figure size 640x480 with 1 Axes>"
            ],
            "image/png": "[encoded data removed]"
          },
          "metadata": {}
        }
      ]
    },
    {
      "cell_type": "markdown",
      "source": [
        "We solve the relaxed maximum likelihood problem with CVXPY and then round the result to get a Boolean solution."
      ],
      "metadata": {
        "id": "V1AnBYJnwKtd"
      }
    },
    {
      "cell_type": "code",
      "source": [
        "%%time\n",
        "import cvxpy as cp\n",
        "x = cp.Variable(shape=n)\n",
        "tau = 2*cp.log(1/p - 1)*sigma**2\n",
        "obj = cp.Minimize(cp.sum_squares(A*x - y) + tau*cp.sum(x))\n",
        "const = [0 <= x, x <= 1]\n",
        "cp.Problem(obj,const).solve(verbose=True)\n",
        "print(\"final objective value: {}\".format(obj.value))\n",
        "\n",
        "# relaxed ML estimate\n",
        "x_rml = np.array(x.value).flatten()\n",
        "\n",
        "# rounded solution\n",
        "x_rnd = (x_rml >= .5).astype(int)"
      ],
      "metadata": {
        "colab": {
          "base_uri": "https://localhost:8080/"
        },
        "id": "P_m0SRXNvm3l",
        "outputId": "eb585005-c427-44d6-9e46-ffc486db686d"
      },
      "execution_count": null,
      "outputs": [
        {
          "output_type": "stream",
          "name": "stdout",
          "text": [
            "===============================================================================\n",
            "                                     CVXPY                                     \n",
            "                                     v1.3.1                                    \n",
            "===============================================================================\n",
            "(CVXPY) Apr 03 06:48:48 AM: Your problem has 10080 variables, 2 constraints, and 0 parameters.\n",
            "(CVXPY) Apr 03 06:48:48 AM: It is compliant with the following grammars: DCP, DQCP\n",
            "(CVXPY) Apr 03 06:48:48 AM: (If you need to solve this problem multiple times, but with different data, consider using parameters.)\n",
            "(CVXPY) Apr 03 06:48:48 AM: CVXPY will first compile your problem; then, it will invoke a numerical solver to obtain a solution.\n",
            "-------------------------------------------------------------------------------\n",
            "                                  Compilation                                  \n",
            "-------------------------------------------------------------------------------\n",
            "(CVXPY) Apr 03 06:48:48 AM: Compiling problem (target solver=OSQP).\n",
            "(CVXPY) Apr 03 06:48:48 AM: Reduction chain: CvxAttr2Constr -> Qp2SymbolicQp -> QpMatrixStuffing -> OSQP\n",
            "(CVXPY) Apr 03 06:48:48 AM: Applying reduction CvxAttr2Constr\n",
            "(CVXPY) Apr 03 06:48:48 AM: Applying reduction Qp2SymbolicQp\n",
            "(CVXPY) Apr 03 06:48:48 AM: Applying reduction QpMatrixStuffing\n"
          ]
        },
        {
          "output_type": "stream",
          "name": "stderr",
          "text": [
            "/usr/local/lib/python3.9/dist-packages/cvxpy/expressions/expression.py:612: UserWarning: \n",
            "This use of ``*`` has resulted in matrix multiplication.\n",
            "Using ``*`` for matrix multiplication has been deprecated since CVXPY 1.1.\n",
            "    Use ``*`` for matrix-scalar and vector-scalar multiplication.\n",
            "    Use ``@`` for matrix-matrix and matrix-vector multiplication.\n",
            "    Use ``multiply`` for elementwise multiplication.\n",
            "This code path has been hit 4 times so far.\n",
            "\n",
            "  warnings.warn(msg, UserWarning)\n"
          ]
        },
        {
          "output_type": "stream",
          "name": "stdout",
          "text": [
            "Reconnecting Anvil Uplink...\n",
            "Connecting to wss://anvil.works/uplink\n",
            "Anvil websocket open\n",
            "Fatal error from Anvil server: Incorrect uplink key\n",
            "Anvil websocket closed (code 1000, reason=b'')\n",
            "(CVXPY) Apr 03 06:48:57 AM: Applying reduction OSQP\n",
            "(CVXPY) Apr 03 06:48:58 AM: Finished problem compilation (took 9.754e+00 seconds).\n",
            "-------------------------------------------------------------------------------\n",
            "                                Numerical solver                               \n",
            "-------------------------------------------------------------------------------\n",
            "(CVXPY) Apr 03 06:48:58 AM: Invoking solver OSQP  to obtain a solution.\n",
            "Reconnecting Anvil Uplink...\n",
            "Connecting to wss://anvil.works/uplink\n",
            "Anvil websocket open\n",
            "Fatal error from Anvil server: Incorrect uplink key\n",
            "Anvil websocket closed (code 1000, reason=b'')\n",
            "-----------------------------------------------------------------\n",
            "           OSQP v0.6.2  -  Operator Splitting QP Solver\n",
            "              (c) Bartolomeo Stellato,  Goran Banjac\n",
            "        University of Oxford  -  Stanford University 2021\n",
            "-----------------------------------------------------------------\n",
            "problem:  variables n = 11095, constraints m = 21175\n",
            "          nnz(P) + nnz(A) = 10253390\n",
            "settings: linear system solver = qdldl,\n",
            "          eps_abs = 1.0e-05, eps_rel = 1.0e-05,\n",
            "          eps_prim_inf = 1.0e-04, eps_dual_inf = 1.0e-04,\n",
            "          rho = 1.00e-01 (adaptive),\n",
            "          sigma = 1.00e-06, alpha = 1.60, max_iter = 10000\n",
            "          check_termination: on (interval 25),\n",
            "          scaling: on, scaled_termination: off\n",
            "          warm start: on, polish: on, time_limit: off\n",
            "\n",
            "iter   objective    pri res    dua res    rho        time\n",
            "   1  -5.2765e+05   1.41e+01   4.25e+05   1.00e-01   1.62e+01s\n",
            "Reconnecting Anvil Uplink...\n",
            "Connecting to wss://anvil.works/uplink\n",
            "Anvil websocket open\n",
            "Fatal error from Anvil server: Incorrect uplink key\n",
            "Anvil websocket closed (code 1000, reason=b'')\n",
            " 200   2.8157e+02   1.45e-02   1.23e-01   1.00e-01   2.49e+01s\n",
            "Reconnecting Anvil Uplink...\n",
            "Connecting to wss://anvil.works/uplink\n",
            "Anvil websocket open\n",
            "Fatal error from Anvil server: Incorrect uplink key\n",
            "Anvil websocket closed (code 1000, reason=b'')\n",
            " 400   3.6257e+02   1.01e-02   5.97e-02   1.00e-01   3.35e+01s\n",
            "Reconnecting Anvil Uplink...\n",
            "Connecting to wss://anvil.works/uplink\n",
            "Anvil websocket open\n",
            "Fatal error from Anvil server: Incorrect uplink key\n",
            "Anvil websocket closed (code 1000, reason=b'')\n",
            " 600   4.2354e+02   7.07e-03   3.54e-02   1.00e-01   4.23e+01s\n",
            "Reconnecting Anvil Uplink...\n",
            "Connecting to wss://anvil.works/uplink\n",
            "Anvil websocket open\n",
            "Fatal error from Anvil server: Incorrect uplink key\n",
            "Anvil websocket closed (code 1000, reason=b'')\n",
            " 800   4.6313e+02   6.99e-03   3.16e-02   1.00e-01   5.07e+01s\n",
            "Reconnecting Anvil Uplink...\n",
            "Connecting to wss://anvil.works/uplink\n",
            "Anvil websocket open\n",
            "Fatal error from Anvil server: Incorrect uplink key\n",
            "Anvil websocket closed (code 1000, reason=b'')\n",
            "1000   4.8875e+02   3.66e-03   1.52e-02   1.00e-01   5.91e+01s\n",
            "1200   5.0562e+02   3.11e-03   2.07e-02   1.00e-01   6.80e+01s\n",
            "Reconnecting Anvil Uplink...\n",
            "Connecting to wss://anvil.works/uplink\n",
            "Anvil websocket open\n",
            "Fatal error from Anvil server: Incorrect uplink key\n",
            "Anvil websocket closed (code 1000, reason=b'')\n",
            "1400   5.1622e+02   2.52e-03   2.19e-02   1.00e-01   7.61e+01s\n",
            "Reconnecting Anvil Uplink...\n",
            "Connecting to wss://anvil.works/uplink\n",
            "Anvil websocket open\n",
            "Fatal error from Anvil server: Incorrect uplink key\n",
            "Anvil websocket closed (code 1000, reason=b'')\n",
            "1600   5.2546e+02   2.24e-03   8.34e-03   1.00e-01   8.47e+01s\n",
            "Reconnecting Anvil Uplink...\n",
            "Connecting to wss://anvil.works/uplink\n",
            "Anvil websocket open\n",
            "Fatal error from Anvil server: Incorrect uplink key\n",
            "Anvil websocket closed (code 1000, reason=b'')\n",
            "1800   5.3209e+02   1.95e-03   6.92e-03   1.00e-01   9.31e+01s\n",
            "Reconnecting Anvil Uplink...\n",
            "Connecting to wss://anvil.works/uplink\n",
            "Anvil websocket open\n",
            "Fatal error from Anvil server: Incorrect uplink key\n",
            "Anvil websocket closed (code 1000, reason=b'')\n",
            "2000   5.3780e+02   1.90e-03   6.26e-03   1.00e-01   1.01e+02s\n",
            "Reconnecting Anvil Uplink...\n",
            "Connecting to wss://anvil.works/uplink\n",
            "Anvil websocket open\n",
            "Fatal error from Anvil server: Incorrect uplink key\n",
            "Anvil websocket closed (code 1000, reason=b'')\n",
            "2200   5.4175e+02   1.41e-03   5.02e-03   1.00e-01   1.11e+02s\n",
            "2400   5.4602e+02   1.34e-03   3.98e-03   1.00e-01   1.19e+02s\n",
            "Reconnecting Anvil Uplink...\n",
            "Connecting to wss://anvil.works/uplink\n",
            "Anvil websocket open\n",
            "Fatal error from Anvil server: Incorrect uplink key\n",
            "Anvil websocket closed (code 1000, reason=b'')\n",
            "2600   5.4916e+02   1.29e-03   4.01e-03   1.00e-01   1.28e+02s\n",
            "Reconnecting Anvil Uplink...\n",
            "Connecting to wss://anvil.works/uplink\n",
            "Anvil websocket open\n",
            "Fatal error from Anvil server: Incorrect uplink key\n",
            "Anvil websocket closed (code 1000, reason=b'')\n",
            "2800   5.5129e+02   1.16e-03   3.38e-03   1.00e-01   1.36e+02s\n",
            "Reconnecting Anvil Uplink...\n",
            "Connecting to wss://anvil.works/uplink\n",
            "Anvil websocket open\n",
            "Fatal error from Anvil server: Incorrect uplink key\n",
            "Anvil websocket closed (code 1000, reason=b'')\n",
            "3000   5.5288e+02   9.70e-04   2.77e-03   1.00e-01   1.45e+02s\n",
            "Reconnecting Anvil Uplink...\n",
            "Connecting to wss://anvil.works/uplink\n",
            "Anvil websocket open\n",
            "Fatal error from Anvil server: Incorrect uplink key\n",
            "Anvil websocket closed (code 1000, reason=b'')\n",
            "3200   5.5390e+02   7.51e-04   2.28e-03   1.00e-01   1.53e+02s\n",
            "3400   5.5479e+02   7.40e-04   2.01e-03   1.00e-01   1.61e+02s\n",
            "Reconnecting Anvil Uplink...\n",
            "Connecting to wss://anvil.works/uplink\n",
            "Anvil websocket open\n",
            "Fatal error from Anvil server: Incorrect uplink key\n",
            "Anvil websocket closed (code 1000, reason=b'')\n",
            "3600   5.5525e+02   6.54e-04   2.49e-03   1.00e-01   1.70e+02s\n",
            "Reconnecting Anvil Uplink...\n",
            "Connecting to wss://anvil.works/uplink\n",
            "Anvil websocket open\n",
            "Fatal error from Anvil server: Incorrect uplink key\n",
            "Anvil websocket closed (code 1000, reason=b'')\n",
            "3800   5.5624e+02   6.11e-04   1.89e-03   1.00e-01   1.78e+02s\n",
            "Reconnecting Anvil Uplink...\n",
            "Connecting to wss://anvil.works/uplink\n",
            "Anvil websocket open\n",
            "Fatal error from Anvil server: Incorrect uplink key\n",
            "Anvil websocket closed (code 1000, reason=b'')\n",
            "4000   5.5697e+02   5.56e-04   1.35e-03   1.00e-01   1.87e+02s\n",
            "Reconnecting Anvil Uplink...\n",
            "Connecting to wss://anvil.works/uplink\n",
            "Anvil websocket open\n",
            "Fatal error from Anvil server: Incorrect uplink key\n",
            "Anvil websocket closed (code 1000, reason=b'')\n",
            "4200   5.5736e+02   4.34e-04   1.25e-03   1.00e-01   1.95e+02s\n",
            "4400   5.5769e+02   4.08e-04   2.34e-03   1.00e-01   2.03e+02s\n",
            "Reconnecting Anvil Uplink...\n",
            "Connecting to wss://anvil.works/uplink\n",
            "Anvil websocket open\n",
            "Fatal error from Anvil server: Incorrect uplink key\n",
            "Anvil websocket closed (code 1000, reason=b'')\n",
            "4600   5.5851e+02   3.77e-04   1.95e-03   1.00e-01   2.12e+02s\n",
            "Reconnecting Anvil Uplink...\n",
            "Connecting to wss://anvil.works/uplink\n",
            "Anvil websocket open\n",
            "Fatal error from Anvil server: Incorrect uplink key\n",
            "Anvil websocket closed (code 1000, reason=b'')\n",
            "4800   5.5863e+02   3.50e-04   1.20e-03   1.00e-01   2.20e+02s\n",
            "Reconnecting Anvil Uplink...\n",
            "Connecting to wss://anvil.works/uplink\n",
            "Anvil websocket open\n",
            "Fatal error from Anvil server: Incorrect uplink key\n",
            "Anvil websocket closed (code 1000, reason=b'')\n",
            "5000   5.5900e+02   3.38e-04   1.37e-03   1.00e-01   2.28e+02s\n",
            "Reconnecting Anvil Uplink...\n",
            "Connecting to wss://anvil.works/uplink\n",
            "Anvil websocket open\n",
            "Fatal error from Anvil server: Incorrect uplink key\n",
            "Anvil websocket closed (code 1000, reason=b'')\n",
            "5200   5.5925e+02   2.64e-04   8.38e-04   1.00e-01   2.37e+02s\n",
            "5400   5.5943e+02   2.24e-04   7.36e-04   1.00e-01   2.45e+02s\n",
            "Reconnecting Anvil Uplink...\n",
            "Connecting to wss://anvil.works/uplink\n",
            "Anvil websocket open\n",
            "Fatal error from Anvil server: Incorrect uplink key\n",
            "Anvil websocket closed (code 1000, reason=b'')\n",
            "5600   5.5954e+02   2.13e-04   5.97e-04   1.00e-01   2.53e+02s\n",
            "Reconnecting Anvil Uplink...\n",
            "Connecting to wss://anvil.works/uplink\n",
            "Anvil websocket open\n",
            "Fatal error from Anvil server: Incorrect uplink key\n",
            "Anvil websocket closed (code 1000, reason=b'')\n",
            "5800   5.5971e+02   2.09e-04   5.68e-04   1.00e-01   2.61e+02s\n",
            "Reconnecting Anvil Uplink...\n",
            "Connecting to wss://anvil.works/uplink\n",
            "Anvil websocket open\n",
            "Fatal error from Anvil server: Incorrect uplink key\n",
            "Anvil websocket closed (code 1000, reason=b'')\n",
            "6000   5.5994e+02   2.05e-04   5.65e-04   1.00e-01   2.70e+02s\n",
            "Reconnecting Anvil Uplink...\n",
            "Connecting to wss://anvil.works/uplink\n",
            "Anvil websocket open\n",
            "Fatal error from Anvil server: Incorrect uplink key\n",
            "Anvil websocket closed (code 1000, reason=b'')\n",
            "6200   5.6009e+02   1.98e-04   5.88e-04   1.00e-01   2.78e+02s\n",
            "6400   5.6021e+02   2.05e-04   7.58e-04   1.00e-01   2.86e+02s\n",
            "Reconnecting Anvil Uplink...\n",
            "Connecting to wss://anvil.works/uplink\n",
            "Anvil websocket open\n",
            "Fatal error from Anvil server: Incorrect uplink key\n",
            "Anvil websocket closed (code 1000, reason=b'')\n",
            "6600   5.6033e+02   1.78e-04   4.02e-04   1.00e-01   2.95e+02s\n",
            "Reconnecting Anvil Uplink...\n",
            "Connecting to wss://anvil.works/uplink\n",
            "Anvil websocket open\n",
            "Fatal error from Anvil server: Incorrect uplink key\n",
            "Anvil websocket closed (code 1000, reason=b'')\n",
            "6800   5.6036e+02   1.68e-04   4.80e-04   1.00e-01   3.03e+02s\n",
            "Reconnecting Anvil Uplink...\n",
            "Connecting to wss://anvil.works/uplink\n",
            "Anvil websocket open\n",
            "Fatal error from Anvil server: Incorrect uplink key\n",
            "Anvil websocket closed (code 1000, reason=b'')\n",
            "7000   5.6045e+02   1.61e-04   3.93e-04   1.00e-01   3.12e+02s\n",
            "Reconnecting Anvil Uplink...\n",
            "Connecting to wss://anvil.works/uplink\n",
            "Anvil websocket open\n",
            "Fatal error from Anvil server: Incorrect uplink key\n",
            "Anvil websocket closed (code 1000, reason=b'')\n",
            "7200   5.6047e+02   1.50e-04   3.19e-04   1.00e-01   3.20e+02s\n",
            "7400   5.6059e+02   1.39e-04   3.05e-04   1.00e-01   3.28e+02s\n",
            "Reconnecting Anvil Uplink...\n",
            "Connecting to wss://anvil.works/uplink\n",
            "Anvil websocket open\n",
            "Fatal error from Anvil server: Incorrect uplink key\n",
            "Anvil websocket closed (code 1000, reason=b'')\n",
            "7600   5.6068e+02   1.31e-04   2.56e-04   1.00e-01   3.37e+02s\n",
            "Reconnecting Anvil Uplink...\n",
            "Connecting to wss://anvil.works/uplink\n",
            "Anvil websocket open\n",
            "Fatal error from Anvil server: Incorrect uplink key\n",
            "Anvil websocket closed (code 1000, reason=b'')\n",
            "7800   5.6071e+02   1.22e-04   2.57e-04   1.00e-01   3.45e+02s\n",
            "Reconnecting Anvil Uplink...\n",
            "Connecting to wss://anvil.works/uplink\n",
            "Anvil websocket open\n",
            "Fatal error from Anvil server: Incorrect uplink key\n",
            "Anvil websocket closed (code 1000, reason=b'')\n",
            "8000   5.6078e+02   1.06e-04   2.85e-04   1.00e-01   3.53e+02s\n",
            "Reconnecting Anvil Uplink...\n",
            "Connecting to wss://anvil.works/uplink\n",
            "Anvil websocket open\n",
            "Fatal error from Anvil server: Incorrect uplink key\n",
            "Anvil websocket closed (code 1000, reason=b'')\n",
            "8200   5.6086e+02   9.64e-05   3.41e-04   1.00e-01   3.61e+02s\n",
            "8400   5.6096e+02   8.08e-05   3.16e-04   1.00e-01   3.70e+02s\n",
            "Reconnecting Anvil Uplink...\n",
            "Connecting to wss://anvil.works/uplink\n",
            "Anvil websocket open\n",
            "Fatal error from Anvil server: Incorrect uplink key\n",
            "Anvil websocket closed (code 1000, reason=b'')\n",
            "8600   5.6099e+02   7.88e-05   2.73e-04   1.00e-01   3.78e+02s\n",
            "Reconnecting Anvil Uplink...\n",
            "Connecting to wss://anvil.works/uplink\n",
            "Anvil websocket open\n",
            "Fatal error from Anvil server: Incorrect uplink key\n",
            "Anvil websocket closed (code 1000, reason=b'')\n",
            "8800   5.6107e+02   7.64e-05   2.46e-04   1.00e-01   3.86e+02s\n",
            "Reconnecting Anvil Uplink...\n",
            "Connecting to wss://anvil.works/uplink\n",
            "Anvil websocket open\n",
            "Fatal error from Anvil server: Incorrect uplink key\n",
            "Anvil websocket closed (code 1000, reason=b'')\n",
            "9000   5.6105e+02   6.09e-05   1.85e-04   1.00e-01   3.95e+02s\n",
            "Reconnecting Anvil Uplink...\n",
            "Connecting to wss://anvil.works/uplink\n",
            "Anvil websocket open\n",
            "Fatal error from Anvil server: Incorrect uplink key\n",
            "Anvil websocket closed (code 1000, reason=b'')\n",
            "9200   5.6109e+02   6.25e-05   1.43e-04   1.00e-01   4.03e+02s\n",
            "Reconnecting Anvil Uplink...\n",
            "Connecting to wss://anvil.works/uplink\n",
            "Anvil websocket open\n",
            "Fatal error from Anvil server: Incorrect uplink key\n",
            "Anvil websocket closed (code 1000, reason=b'')\n",
            "Reconnecting Anvil Uplink...\n",
            "Connecting to wss://anvil.works/uplink\n",
            "Anvil websocket open\n",
            "Fatal error from Anvil server: Incorrect uplink key\n",
            "Anvil websocket closed (code 1000, reason=b'')\n",
            "\n",
            "status:               solved\n",
            "solution polish:      unsuccessful\n",
            "number of iterations: 9200\n",
            "optimal objective:    561.0945\n",
            "run time:             4.28e+02s\n",
            "optimal rho estimate: 1.48e-01\n",
            "\n",
            "-------------------------------------------------------------------------------\n",
            "                                    Summary                                    \n",
            "-------------------------------------------------------------------------------\n",
            "(CVXPY) Apr 03 06:56:06 AM: Problem status: optimal\n",
            "(CVXPY) Apr 03 06:56:06 AM: Optimal value: 5.611e+02\n",
            "(CVXPY) Apr 03 06:56:06 AM: Compilation took 9.754e+00 seconds\n",
            "(CVXPY) Apr 03 06:56:06 AM: Solver (including time spent in interface) took 4.280e+02 seconds\n",
            "final objective value: 561.0944553157796\n",
            "CPU times: user 7min 10s, sys: 5.61 s, total: 7min 16s\n",
            "Wall time: 7min 17s\n"
          ]
        }
      ]
    },
    {
      "cell_type": "markdown",
      "source": [
        "Evaluation: We define a function for computing the estimation errors, and a function for plotting  𝑥 , the relaxed ML estimate, and the rounded solutions."
      ],
      "metadata": {
        "id": "S9NLJBRcyhAI"
      }
    },
    {
      "cell_type": "code",
      "source": [
        "import matplotlib\n",
        "\n",
        "def errors(x_true, x, threshold=.5):\n",
        "    '''Return estimation errors.\n",
        "    \n",
        "    Return the true number of faults, the number of false positives, and the number of false negatives.\n",
        "    '''\n",
        "    n = len(x_true)\n",
        "    k = sum(x_true)\n",
        "    false_pos = sum(np.logical_and(x_true < threshold, x >= threshold))\n",
        "    false_neg = sum(np.logical_and(x_true >= threshold, x < threshold))\n",
        "    return (k, false_pos, false_neg)\n",
        "\n",
        "def plotXs(x_true, x_rml, x_rnd, filename=None):\n",
        "    '''Plot true, relaxed ML, and rounded solutions.'''\n",
        "    matplotlib.rcParams.update({'font.size': 14})\n",
        "    xs = [x_true, x_rml, x_rnd]\n",
        "    titles = ['x_true', 'x_rml', 'x_rnd']\n",
        "\n",
        "    n = len(x_true)\n",
        "    k = sum(x_true)\n",
        "\n",
        "    fig, ax = plt.subplots(1, 3, sharex=True, sharey=True, figsize=(12, 3))\n",
        "\n",
        "    for i,x in enumerate(xs):\n",
        "            ax[i].plot(range(n), x)\n",
        "            ax[i].set_title(titles[i])\n",
        "            ax[i].set_ylim([0,1])\n",
        "            \n",
        "    if filename:\n",
        "        fig.savefig(filename, bbox_inches='tight')\n",
        "        \n",
        "    return errors(x_true, x_rml,.5)"
      ],
      "metadata": {
        "id": "7Su6XVw0yF7e"
      },
      "execution_count": null,
      "outputs": []
    },
    {
      "cell_type": "code",
      "source": [
        "plotXs(x_true, x_rml, x_rnd, 'fault.pdf')"
      ],
      "metadata": {
        "colab": {
          "base_uri": "https://localhost:8080/",
          "height": 340
        },
        "id": "i3U4uojWyxs4",
        "outputId": "5291506b-da6e-4c1e-8182-95e5c75b05d7"
      },
      "execution_count": null,
      "outputs": [
        {
          "output_type": "execute_result",
          "data": {
            "text/plain": [
              "(17, 0, 0)"
            ]
          },
          "metadata": {},
          "execution_count": 48
        },
        {
          "output_type": "display_data",
          "data": {
            "text/plain": [
              "<Figure size 1200x300 with 3 Axes>"
            ],
            "image/png": "[encoded data removed]"
          },
          "metadata": {}
        }
      ]
    },
    {
      "cell_type": "code",
      "source": [],
      "metadata": {
        "id": "wiG2MkVMnKHs"
      },
      "execution_count": null,
      "outputs": []
    },
    {
      "cell_type": "markdown",
      "source": [
        "Out of the evaluation, we found that there was a total of 17 sensor fault issues detected, an the solutions recovery has 0 false negatives and 0 false positives."
      ],
      "metadata": {
        "id": "UuE2zzrZy4Gr"
      }
    }
  ]
}